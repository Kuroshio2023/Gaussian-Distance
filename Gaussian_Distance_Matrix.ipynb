{
  "nbformat": 4,
  "nbformat_minor": 0,
  "metadata": {
    "colab": {
      "provenance": [],
      "gpuType": "T4",
      "authorship_tag": "ABX9TyNNSLUwmuKyRCqAo4aRVHHE",
      "include_colab_link": true
    },
    "kernelspec": {
      "name": "python3",
      "display_name": "Python 3"
    },
    "language_info": {
      "name": "python"
    },
    "accelerator": "GPU"
  },
  "cells": [
    {
      "cell_type": "markdown",
      "metadata": {
        "id": "view-in-github",
        "colab_type": "text"
      },
      "source": [
        "<a href=\"https://colab.research.google.com/github/Kuroshio2023/Gaussian-Distance/blob/main/Gaussian_Distance_Matrix.ipynb\" target=\"_parent\"><img src=\"https://colab.research.google.com/assets/colab-badge.svg\" alt=\"Open In Colab\"/></a>"
      ]
    },
    {
      "cell_type": "code",
      "execution_count": null,
      "metadata": {
        "id": "_ahR9q6yN_3X"
      },
      "outputs": [],
      "source": []
    },
    {
      "cell_type": "code",
      "source": [
        "!pip install openpyxl"
      ],
      "metadata": {
        "colab": {
          "base_uri": "https://localhost:8080/"
        },
        "id": "Nocdq3hQOFgJ",
        "outputId": "56581492-1ad5-4569-da13-83cfd6897724"
      },
      "execution_count": null,
      "outputs": [
        {
          "output_type": "stream",
          "name": "stdout",
          "text": [
            "Requirement already satisfied: openpyxl in /usr/local/lib/python3.11/dist-packages (3.1.5)\n",
            "Requirement already satisfied: et-xmlfile in /usr/local/lib/python3.11/dist-packages (from openpyxl) (2.0.0)\n"
          ]
        }
      ]
    },
    {
      "cell_type": "code",
      "source": [
        "import torch\n",
        "print(\"GPU Available:\", torch.cuda.is_available())\n",
        "print(\"GPU Name:\", torch.cuda.get_device_name(0) if torch.cuda.is_available() else \"None\")"
      ],
      "metadata": {
        "colab": {
          "base_uri": "https://localhost:8080/"
        },
        "id": "L52nzzX0OUWk",
        "outputId": "2b99054b-ef63-49e7-8fed-3166dc2920dc"
      },
      "execution_count": null,
      "outputs": [
        {
          "output_type": "stream",
          "name": "stdout",
          "text": [
            "GPU Available: True\n",
            "GPU Name: Tesla T4\n"
          ]
        }
      ]
    },
    {
      "cell_type": "code",
      "source": [
        "import torch\n",
        "import pandas as pd\n",
        "import torch.nn.functional as F\n",
        "import math\n",
        "from tqdm import tqdm\n"
      ],
      "metadata": {
        "id": "q1OdWktNOlIp"
      },
      "execution_count": null,
      "outputs": []
    },
    {
      "cell_type": "code",
      "source": [
        "from google.colab import files\n",
        "file_path = \"/content/selected_points.xlsx\"\n",
        "df = pd.read_excel(file_path)\n",
        "\n",
        "# 3️⃣ Extract numeric data (S2 dataset)\n",
        "data = df[[\"X_11\", \"X_12\", \"X_13\", \"X_21\", \"X_22\", \"X_23\"]].to_numpy()\n",
        "data = torch.tensor(data, dtype=torch.float32, device=\"cuda\")"
      ],
      "metadata": {
        "id": "gocSFmZKUNSa"
      },
      "execution_count": null,
      "outputs": []
    },
    {
      "cell_type": "code",
      "source": [
        "# Set device to GPU if available\n",
        "device = 'cuda' if torch.cuda.is_available() else 'cpu'\n",
        "\n",
        "# Define expectation function in PyTorch\n",
        "def expectation(mu_1, sigma_1, mu_2, sigma_2):\n",
        "    pi = torch.tensor(torch.pi)\n",
        "\n",
        "    A_1 = torch.sqrt(pi)*(2*sigma_1**8+8*sigma_1**6*sigma_2**2+12*sigma_1**4*sigma_2**4+8*sigma_1**2*sigma_2**6+2*sigma_2**8)*sigma_1**2*sigma_2**2\n",
        "    A_2 = (0.5*sigma_1**2+0.5*sigma_2**2)**1.5\n",
        "\n",
        "    B_1 = 2 * torch.sqrt(pi)*(0.5*sigma_1**8+2*sigma_1**6*sigma_2**2+3*sigma_1**4*sigma_2**4+2*sigma_1**2*sigma_2**6+0.5*sigma_2**8)\n",
        "    B_2 = (0.5*sigma_1**2+0.5*sigma_2**2)**0.5\n",
        "\n",
        "    C = 4 * (sigma_1**8+4*sigma_1**6*sigma_2**2+6*sigma_1**4*sigma_2**4+4*sigma_1**2*sigma_2**6+sigma_2**8)\n",
        "\n",
        "    Ef_1X= 1/torch.sqrt(2*pi*(sigma_1**2+sigma_2**2))\n",
        "    Ef_2X= Ef_1X * 0.5\n",
        "    Ef_3X= (A_1/A_2 + B_1/B_2)/(2*pi*C)\n",
        "\n",
        "    #Ef_1X= 1/torch.sqrt(2*pi*(sigma_1**2+sigma_2**2))\n",
        "\n",
        "\n",
        "\n",
        "    return [Ef_1X, Ef_2X, Ef_3X]\n",
        "\n",
        "\n",
        "# Define the Gaussian Metric Function in PyTorch\n",
        "def gaussian_metric(u, v):\n",
        "    \"\"\"\n",
        "    Computes Gaussian-based distance between two points u and v.\n",
        "    \"\"\"\n",
        "    n = u.shape[0] // 2  # Half the dimension\n",
        "\n",
        "    # Splitting input vectors\n",
        "    u_1, u_2, v_1, v_2 = u[:n], u[n:], v[:n], v[n:]\n",
        "\n",
        "    # Compute lengths\n",
        "    l_u = torch.norm(u_1 - u_2)\n",
        "    l_v = torch.norm(v_1 - v_2)\n",
        "\n",
        "    # Compute sums for metric formula\n",
        "    a_1, a_2, a_3 = torch.sum(u_1 ** 2), torch.sum(u_2 ** 2), 2 * torch.sum(u_1 * u_2)\n",
        "    b_1, b_2, b_3 = torch.sum(v_1 ** 2), torch.sum(v_2 ** 2), 2 * torch.sum(v_1 * v_2)\n",
        "    c_1 = torch.sum(u_1 * v_1)\n",
        "    c_2 = torch.sum(u_1 * v_2 + u_2 * v_1)\n",
        "    c_3 = torch.sum(u_2 * v_2)\n",
        "\n",
        "    # Expectation values\n",
        "    p_1, p_2, p_3 = expectation(0.5, l_u / 2, 0.5, l_u / 2)\n",
        "    q_1, q_2, q_3 = expectation(0.5, l_v / 2, 0.5, l_v / 2)\n",
        "    r_1, r_2, r_3 = expectation(0.5, l_u / 2, 0.5, l_v / 2)\n",
        "\n",
        "    # Compute A, B, C\n",
        "    A = a_1 * p_3 + a_2 * (p_1 + p_3 - 2 * p_2) + a_3 * (p_2 - p_3)\n",
        "    B = b_1 * q_3 + b_2 * (q_1 + q_3 - 2 * q_2) + b_3 * (q_2 - q_3)\n",
        "    C = c_1 * r_3 + c_2 * (r_2 - r_3) + c_3 * (r_1 + r_3 - 2 * r_2)\n",
        "    if A + B - 2 * C>0:\n",
        "\n",
        "      return torch.sqrt(A + B - 2 * C)\n",
        "    return A + B - 2 * C\n",
        "\n",
        "# Generate random data (5000 points in 20 dimensions, split into two halves)\n",
        "num_points = 600\n",
        "dim = 6  # Double of original n (for u_1 and u_2)\n",
        "\n",
        "# Compute pairwise distance matrix using the custom metric\n",
        "distance_matrix = torch.zeros((num_points, num_points), device=device)\n",
        "\n",
        "for i in tqdm(range(num_points), desc=\"Computing distances\"):\n",
        "    for j in range(i, num_points):  # Compute only upper triangle to save time\n",
        "        distance = gaussian_metric(data[i], data[j])\n",
        "        if i == j:\n",
        "            continue\n",
        "        distance_matrix[i, j] = distance\n",
        "        distance_matrix[j, i] = distance  # Symmetric matrix\n",
        "\n",
        "# Move to CPU and convert to NumPy for saving\n",
        "distance_matrix_cpu = distance_matrix.cpu().numpy()\n",
        "\n",
        "# Save as Excel file\n",
        "df = pd.DataFrame(distance_matrix_cpu)\n",
        "df.to_excel(\"distance_matrix.xlsx\", index=False, header=False)\n",
        "\n",
        "print(\"Custom distance matrix saved as 'distance_matrix.xlsx'.\")"
      ],
      "metadata": {
        "colab": {
          "base_uri": "https://localhost:8080/"
        },
        "id": "e_KdSSSJPRm4",
        "outputId": "5020a9ff-8925-4e33-829d-b37c57dfca2c"
      },
      "execution_count": null,
      "outputs": [
        {
          "output_type": "stream",
          "name": "stderr",
          "text": [
            "Computing distances: 100%|██████████| 600/600 [11:07<00:00,  1.11s/it]\n"
          ]
        },
        {
          "output_type": "stream",
          "name": "stdout",
          "text": [
            "Custom distance matrix saved as 'distance_matrix.xlsx'.\n"
          ]
        }
      ]
    },
    {
      "cell_type": "markdown",
      "source": [],
      "metadata": {
        "id": "oP50tKSCS99f"
      }
    },
    {
      "cell_type": "code",
      "source": [
        "from google.colab import files\n",
        "files.download(\"distance_matrix.xlsx\")"
      ],
      "metadata": {
        "colab": {
          "base_uri": "https://localhost:8080/",
          "height": 17
        },
        "id": "1g6ijlZ8QyQh",
        "outputId": "8c3fad9b-6b6a-445b-cb1c-37a7a2a174cb"
      },
      "execution_count": null,
      "outputs": [
        {
          "output_type": "display_data",
          "data": {
            "text/plain": [
              "<IPython.core.display.Javascript object>"
            ],
            "application/javascript": [
              "\n",
              "    async function download(id, filename, size) {\n",
              "      if (!google.colab.kernel.accessAllowed) {\n",
              "        return;\n",
              "      }\n",
              "      const div = document.createElement('div');\n",
              "      const label = document.createElement('label');\n",
              "      label.textContent = `Downloading \"${filename}\": `;\n",
              "      div.appendChild(label);\n",
              "      const progress = document.createElement('progress');\n",
              "      progress.max = size;\n",
              "      div.appendChild(progress);\n",
              "      document.body.appendChild(div);\n",
              "\n",
              "      const buffers = [];\n",
              "      let downloaded = 0;\n",
              "\n",
              "      const channel = await google.colab.kernel.comms.open(id);\n",
              "      // Send a message to notify the kernel that we're ready.\n",
              "      channel.send({})\n",
              "\n",
              "      for await (const message of channel.messages) {\n",
              "        // Send a message to notify the kernel that we're ready.\n",
              "        channel.send({})\n",
              "        if (message.buffers) {\n",
              "          for (const buffer of message.buffers) {\n",
              "            buffers.push(buffer);\n",
              "            downloaded += buffer.byteLength;\n",
              "            progress.value = downloaded;\n",
              "          }\n",
              "        }\n",
              "      }\n",
              "      const blob = new Blob(buffers, {type: 'application/binary'});\n",
              "      const a = document.createElement('a');\n",
              "      a.href = window.URL.createObjectURL(blob);\n",
              "      a.download = filename;\n",
              "      div.appendChild(a);\n",
              "      a.click();\n",
              "      div.remove();\n",
              "    }\n",
              "  "
            ]
          },
          "metadata": {}
        },
        {
          "output_type": "display_data",
          "data": {
            "text/plain": [
              "<IPython.core.display.Javascript object>"
            ],
            "application/javascript": [
              "download(\"download_81418f33-b12d-43ba-a49c-f129407de436\", \"distance_matrix.xlsx\", 4332031)"
            ]
          },
          "metadata": {}
        }
      ]
    }
  ]
}
